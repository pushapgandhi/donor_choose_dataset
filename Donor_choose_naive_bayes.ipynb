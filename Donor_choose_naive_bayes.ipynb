{
 "cells": [
  {
   "cell_type": "markdown",
   "metadata": {
    "colab_type": "text",
    "id": "Dnubs-Nnb3cw"
   },
   "source": [
    "# Assignment 6: Apply NB"
   ]
  },
  {
   "cell_type": "code",
   "execution_count": 1,
   "metadata": {
    "colab": {},
    "colab_type": "code",
    "id": "chpSjDaXm9KG"
   },
   "outputs": [],
   "source": [
    "from sklearn.model_selection import train_test_split\n",
    "from sklearn.feature_extraction.text import CountVectorizer\n",
    "from sklearn.feature_extraction.text import TfidfVectorizer\n",
    "from sklearn.preprocessing import Normalizer\n",
    "import pickle\n",
    "from tqdm import tqdm\n",
    "import numpy as np\n",
    "from scipy.sparse import hstack\n",
    "from sklearn.metrics import confusion_matrix"
   ]
  },
  {
   "cell_type": "markdown",
   "metadata": {
    "colab_type": "text",
    "id": "inzYCIaib3c3"
   },
   "source": [
    "<h1>2. Naive Bayes </h1>"
   ]
  },
  {
   "cell_type": "markdown",
   "metadata": {
    "colab_type": "text",
    "id": "FYqCIxzFb3c5"
   },
   "source": [
    "## 1.1 Loading Data"
   ]
  },
  {
   "cell_type": "code",
   "execution_count": 99,
   "metadata": {
    "colab": {},
    "colab_type": "code",
    "id": "dA1jknyqb3c_"
   },
   "outputs": [],
   "source": [
    "import pandas\n",
    "data = pandas.read_csv('preprocessed_data.csv',nrows=100000) #100K DATAPOINTS ARE TAKEN FOR THE MODEL"
   ]
  },
  {
   "cell_type": "markdown",
   "metadata": {
    "colab_type": "text",
    "id": "WtVV13Fyb3dH"
   },
   "source": [
    "<h2>1.2 Splitting data into Train and cross validation(or test): Stratified Sampling</h2>"
   ]
  },
  {
   "cell_type": "code",
   "execution_count": 100,
   "metadata": {
    "colab": {},
    "colab_type": "code",
    "id": "i-PyprDNb3dI"
   },
   "outputs": [],
   "source": [
    "# please write all the code with proper documentation, and proper titles for each subsection\n",
    "# go through documentations and blogs before you start coding\n",
    "# first figure out what to do, and then think about how to do.\n",
    "# reading and understanding error messages will be very much helpfull in debugging your code\n",
    "# when you plot any graph make sure you use \n",
    "    # a. Title, that describes your plot, this will be very helpful to the reader\n",
    "    # b. Legends if needed\n",
    "    # c. X-axis label\n",
    "    # d. Y-axis label\n"
   ]
  },
  {
   "cell_type": "code",
   "execution_count": 101,
   "metadata": {},
   "outputs": [
    {
     "data": {
      "text/html": [
       "<div>\n",
       "<style scoped>\n",
       "    .dataframe tbody tr th:only-of-type {\n",
       "        vertical-align: middle;\n",
       "    }\n",
       "\n",
       "    .dataframe tbody tr th {\n",
       "        vertical-align: top;\n",
       "    }\n",
       "\n",
       "    .dataframe thead th {\n",
       "        text-align: right;\n",
       "    }\n",
       "</style>\n",
       "<table border=\"1\" class=\"dataframe\">\n",
       "  <thead>\n",
       "    <tr style=\"text-align: right;\">\n",
       "      <th></th>\n",
       "      <th>school_state</th>\n",
       "      <th>teacher_prefix</th>\n",
       "      <th>project_grade_category</th>\n",
       "      <th>teacher_number_of_previously_posted_projects</th>\n",
       "      <th>project_is_approved</th>\n",
       "      <th>clean_categories</th>\n",
       "      <th>clean_subcategories</th>\n",
       "      <th>essay</th>\n",
       "      <th>price</th>\n",
       "    </tr>\n",
       "  </thead>\n",
       "  <tbody>\n",
       "    <tr>\n",
       "      <th>0</th>\n",
       "      <td>ca</td>\n",
       "      <td>mrs</td>\n",
       "      <td>grades_prek_2</td>\n",
       "      <td>53</td>\n",
       "      <td>1</td>\n",
       "      <td>math_science</td>\n",
       "      <td>appliedsciences health_lifescience</td>\n",
       "      <td>i fortunate enough use fairy tale stem kits cl...</td>\n",
       "      <td>725.05</td>\n",
       "    </tr>\n",
       "    <tr>\n",
       "      <th>1</th>\n",
       "      <td>ut</td>\n",
       "      <td>ms</td>\n",
       "      <td>grades_3_5</td>\n",
       "      <td>4</td>\n",
       "      <td>1</td>\n",
       "      <td>specialneeds</td>\n",
       "      <td>specialneeds</td>\n",
       "      <td>imagine 8 9 years old you third grade classroo...</td>\n",
       "      <td>213.03</td>\n",
       "    </tr>\n",
       "  </tbody>\n",
       "</table>\n",
       "</div>"
      ],
      "text/plain": [
       "  school_state teacher_prefix project_grade_category  \\\n",
       "0           ca            mrs          grades_prek_2   \n",
       "1           ut             ms             grades_3_5   \n",
       "\n",
       "   teacher_number_of_previously_posted_projects  project_is_approved  \\\n",
       "0                                            53                    1   \n",
       "1                                             4                    1   \n",
       "\n",
       "  clean_categories                 clean_subcategories  \\\n",
       "0     math_science  appliedsciences health_lifescience   \n",
       "1     specialneeds                        specialneeds   \n",
       "\n",
       "                                               essay   price  \n",
       "0  i fortunate enough use fairy tale stem kits cl...  725.05  \n",
       "1  imagine 8 9 years old you third grade classroo...  213.03  "
      ]
     },
     "execution_count": 101,
     "metadata": {},
     "output_type": "execute_result"
    }
   ],
   "source": [
    "data.head(2)"
   ]
  },
  {
   "cell_type": "code",
   "execution_count": 102,
   "metadata": {},
   "outputs": [],
   "source": [
    "#SPLITTING THE DATA IN TRAIN AND TEST\n",
    "y=data[\"project_is_approved\"]\n",
    "x=data.drop(\"project_is_approved\",axis=1)\n",
    "\n",
    "x_train,x_test,y_train,y_test=train_test_split(x,y,test_size=0.33,stratify=y)"
   ]
  },
  {
   "cell_type": "code",
   "execution_count": 103,
   "metadata": {},
   "outputs": [
    {
     "data": {
      "text/plain": [
       "(67000, 8)"
      ]
     },
     "execution_count": 103,
     "metadata": {},
     "output_type": "execute_result"
    }
   ],
   "source": [
    "x_train.shape"
   ]
  },
  {
   "cell_type": "code",
   "execution_count": 104,
   "metadata": {},
   "outputs": [
    {
     "data": {
      "text/plain": [
       "(33000, 8)"
      ]
     },
     "execution_count": 104,
     "metadata": {},
     "output_type": "execute_result"
    }
   ],
   "source": [
    "x_test.shape"
   ]
  },
  {
   "cell_type": "markdown",
   "metadata": {
    "colab_type": "text",
    "id": "EnZwVNULb3dO"
   },
   "source": [
    "<h2>1.3 Make Data Model Ready: encoding eassay, and project_title</h2>"
   ]
  },
  {
   "cell_type": "code",
   "execution_count": 105,
   "metadata": {
    "colab": {},
    "colab_type": "code",
    "id": "-SczZKiab3dR"
   },
   "outputs": [],
   "source": [
    "# please write all the code with proper documentation, and proper titles for each subsection\n",
    "# go through documentations and blogs before you start coding\n",
    "# first figure out what to do, and then think about how to do.\n",
    "# reading and understanding error messages will be very much helpfull in debugging your code\n",
    "# make sure you featurize train and test data separatly\n",
    "\n",
    "# when you plot any graph make sure you use \n",
    "    # a. Title, that describes your plot, this will be very helpful to the reader\n",
    "    # b. Legends if needed\n",
    "    # c. X-axis label\n",
    "    # d. Y-axis label"
   ]
  },
  {
   "cell_type": "markdown",
   "metadata": {},
   "source": [
    "### 1. BOW"
   ]
  },
  {
   "cell_type": "code",
   "execution_count": 197,
   "metadata": {},
   "outputs": [
    {
     "name": "stdout",
     "output_type": "stream",
     "text": [
      "(67000, 5000)\n",
      "(33000, 5000)\n"
     ]
    }
   ],
   "source": [
    "vectorizer=CountVectorizer(min_df=10, ngram_range=(1,4) ,max_features=5000)\n",
    "vectorizer.fit(x_train[\"essay\"].values)\n",
    "\n",
    "feature_bow = vectorizer.get_feature_names() #STORING THE NAMES OF FEATURES  \n",
    "\n",
    "x_train_essay = vectorizer.transform(x_train[\"essay\"].values)  #VECTORIZING TRAIN ESSAY BY BOW \n",
    "x_test_essay=vectorizer.transform(x_test[\"essay\"].values) #VECTORIZING TEST ESSAY BY BOW\n",
    "\n",
    "print(x_train_essay.shape)\n",
    "print(x_test_essay.shape)"
   ]
  },
  {
   "cell_type": "markdown",
   "metadata": {},
   "source": [
    "## 2. TFIDF"
   ]
  },
  {
   "cell_type": "code",
   "execution_count": 198,
   "metadata": {},
   "outputs": [
    {
     "name": "stdout",
     "output_type": "stream",
     "text": [
      "(67000, 46574)\n",
      "(33000, 46574)\n"
     ]
    }
   ],
   "source": [
    "vectorizer=TfidfVectorizer()\n",
    "vectorizer.fit(x_train[\"essay\"].values)\n",
    "\n",
    "feature_tfidf = vectorizer.get_feature_names() #STORING THE NAMES OF FEATURES \n",
    "\n",
    "x_train_essay_tfidf = vectorizer.transform(x_train[\"essay\"].values) #VECTORIZING TRAIN ESSAY BY TFIDF\n",
    "x_test_essay_tfidf=vectorizer.transform(x_test[\"essay\"].values) #VECTORIZING TEST ESSAY BY TFIDF\n",
    "\n",
    "print(x_train_essay_tfidf.shape)\n",
    "print(x_test_essay_tfidf.shape)"
   ]
  },
  {
   "cell_type": "code",
   "execution_count": null,
   "metadata": {},
   "outputs": [],
   "source": []
  },
  {
   "cell_type": "markdown",
   "metadata": {},
   "source": [
    "<h2>1.4 Make Data Model Ready: encoding numerical, categorical features</h2>"
   ]
  },
  {
   "cell_type": "code",
   "execution_count": 108,
   "metadata": {},
   "outputs": [],
   "source": [
    "# please write all the code with proper documentation, and proper titles for each subsection\n",
    "# go through documentations and blogs before you start coding \n",
    "# first figure out what to do, and then think about how to do.\n",
    "# reading and understanding error messages will be very much helpfull in debugging your code\n",
    "# make sure you featurize train and test data separatly\n",
    "\n",
    "# when you plot any graph make sure you use \n",
    "    # a. Title, that describes your plot, this will be very helpful to the reader\n",
    "    # b. Legends if needed\n",
    "    # c. X-axis label\n",
    "    # d. Y-axis label"
   ]
  },
  {
   "cell_type": "markdown",
   "metadata": {},
   "source": [
    "## CATEGORICAL FEATURES"
   ]
  },
  {
   "cell_type": "markdown",
   "metadata": {},
   "source": [
    "### 1. school_state"
   ]
  },
  {
   "cell_type": "code",
   "execution_count": 187,
   "metadata": {},
   "outputs": [
    {
     "name": "stdout",
     "output_type": "stream",
     "text": [
      "(67000, 51)\n",
      "(33000, 51)\n"
     ]
    }
   ],
   "source": [
    "vectorizer = CountVectorizer(binary=True)\n",
    "vectorizer.fit(x_train[\"school_state\"].values)\n",
    "\n",
    "feature_state=vectorizer.get_feature_names() #STORING THE NAMES OF FEATURES\n",
    "\n",
    "x_train_state=vectorizer.transform(x_train['school_state'].values) #VECTORIZING SCHOOL STATE IN TRAIN DATASET  \n",
    "x_test_state=vectorizer.transform(x_test['school_state'].values) #VECTORIZING SCHOOL STATE IN TEST DATASET\n",
    "\n",
    "print(x_train_state.shape)\n",
    "print(x_test_state.shape)"
   ]
  },
  {
   "cell_type": "markdown",
   "metadata": {},
   "source": [
    "### 2. teacher_prefix"
   ]
  },
  {
   "cell_type": "code",
   "execution_count": 188,
   "metadata": {},
   "outputs": [
    {
     "name": "stdout",
     "output_type": "stream",
     "text": [
      "(67000, 5)\n",
      "(33000, 5)\n"
     ]
    }
   ],
   "source": [
    "vectorizer=CountVectorizer(binary=True)\n",
    "vectorizer.fit(x_train[\"teacher_prefix\"].values)\n",
    "\n",
    "feature_prefix=vectorizer.get_feature_names() #STORING THE NAMES OF FEATURES\n",
    "x_train_prefix=vectorizer.transform(x_train[\"teacher_prefix\"].values) #VECTORIZING TEACHER PREFIX IN TRAIN DATASET\n",
    "x_test_prefix=vectorizer.transform(x_test[\"teacher_prefix\"].values) #VECTORIZING TEACHER PREFIX IN TEST DATASET\n",
    "\n",
    "print(x_train_prefix.shape)\n",
    "print(x_test_prefix.shape)"
   ]
  },
  {
   "cell_type": "markdown",
   "metadata": {},
   "source": [
    "### 3. project_grade_category"
   ]
  },
  {
   "cell_type": "code",
   "execution_count": 190,
   "metadata": {},
   "outputs": [
    {
     "name": "stdout",
     "output_type": "stream",
     "text": [
      "(67000, 4)\n",
      "(33000, 4)\n"
     ]
    }
   ],
   "source": [
    "vectorizer=CountVectorizer(binary=True)\n",
    "vectorizer.fit(x_train[\"project_grade_category\"].values)\n",
    "\n",
    "feature_grade=vectorizer.get_feature_names() #STORING THE NAMES OF FEATURES\n",
    "\n",
    "x_train_grade=vectorizer.transform(x_train[\"project_grade_category\"].values) #VECTORIZING project_grade_category IN TRAIN DATASET\n",
    "x_test_grade=vectorizer.transform(x_test[\"project_grade_category\"].values) #VECTORIZING project_grade_category IN TEST DATASET\n",
    "\n",
    "print(x_train_grade.shape)\n",
    "print(x_test_grade.shape)"
   ]
  },
  {
   "cell_type": "markdown",
   "metadata": {},
   "source": [
    "### 4. clean_categories"
   ]
  },
  {
   "cell_type": "code",
   "execution_count": 193,
   "metadata": {},
   "outputs": [
    {
     "name": "stdout",
     "output_type": "stream",
     "text": [
      "(67000, 9)\n",
      "(33000, 9)\n"
     ]
    }
   ],
   "source": [
    "vectorizer=CountVectorizer()\n",
    "vectorizer.fit(x_train[\"clean_categories\"].values)\n",
    "\n",
    "feature_clean_categories=vectorizer.get_feature_names() #STORING THE NAMES OF FEATURES\n",
    "\n",
    "x_train_categories=vectorizer.transform(x_train[\"clean_categories\"].values) #VECTORIZING clean_categories IN TRAIN DATASET\n",
    "x_test_categories=vectorizer.transform(x_test[\"clean_categories\"].values) #VECTORIZING clean_categories IN TEST DATASET\n",
    "\n",
    "print(x_train_categories.shape)\n",
    "print(x_test_categories.shape)"
   ]
  },
  {
   "cell_type": "markdown",
   "metadata": {},
   "source": [
    "### 5.clean_subcategories"
   ]
  },
  {
   "cell_type": "code",
   "execution_count": 194,
   "metadata": {},
   "outputs": [
    {
     "name": "stdout",
     "output_type": "stream",
     "text": [
      "(67000, 30)\n",
      "(33000, 30)\n"
     ]
    }
   ],
   "source": [
    "vectorizer=CountVectorizer()\n",
    "vectorizer.fit(x_train[\"clean_subcategories\"].values)\n",
    "\n",
    "feature_clean_subcategories=vectorizer.get_feature_names() #STORING THE NAMES OF FEATURES\n",
    "\n",
    "x_train_subcategories=vectorizer.transform(x_train[\"clean_subcategories\"].values) #VECTORIZING clean_subcategories IN TRAIN DATASET\n",
    "x_test_subcategories=vectorizer.transform(x_test[\"clean_subcategories\"].values) #VECTORIZING clean_subcategories IN TEST DATASET\n",
    "\n",
    "print(x_train_subcategories.shape)\n",
    "print(x_test_subcategories.shape)"
   ]
  },
  {
   "cell_type": "markdown",
   "metadata": {},
   "source": [
    "## NUMERICAL FEATURES"
   ]
  },
  {
   "cell_type": "markdown",
   "metadata": {},
   "source": [
    "### 1. teacher_number_of_previously_posted_projects"
   ]
  },
  {
   "cell_type": "code",
   "execution_count": 196,
   "metadata": {},
   "outputs": [
    {
     "name": "stdout",
     "output_type": "stream",
     "text": [
      "(67000, 1)\n",
      "(33000, 1)\n"
     ]
    }
   ],
   "source": [
    "# NORMALIZING teacher_number_of_previously_posted_projects\n",
    "normalizer=Normalizer()\n",
    "normalizer.fit(x_train[\"teacher_number_of_previously_posted_projects\"].values.reshape(-1,1))\n",
    "\n",
    "\n",
    "x_train_previous_project=normalizer.transform(x_train[\"teacher_number_of_previously_posted_projects\"].values.reshape(-1,1))\n",
    "x_test_previous_project=normalizer.transform(x_test[\"teacher_number_of_previously_posted_projects\"].values.reshape(-1,1))\n",
    "\n",
    "print(x_train_previous_project.shape)\n",
    "print(x_test_previous_project.shape)"
   ]
  },
  {
   "cell_type": "markdown",
   "metadata": {},
   "source": [
    "### 2. price"
   ]
  },
  {
   "cell_type": "code",
   "execution_count": 115,
   "metadata": {},
   "outputs": [
    {
     "name": "stdout",
     "output_type": "stream",
     "text": [
      "(67000, 1)\n",
      "(33000, 1)\n"
     ]
    }
   ],
   "source": [
    "# NORMALIZING price\n",
    "normalizer=Normalizer()\n",
    "normalizer.fit(x_train[\"price\"].values.reshape(-1,1))\n",
    "\n",
    "x_train_price = normalizer.transform(x_train[\"price\"].values.reshape(-1,1))\n",
    "x_test_price = normalizer.transform(x_test[\"price\"].values.reshape(-1,1))\n",
    "\n",
    "print(x_train_price.shape)\n",
    "print(x_test_price.shape)"
   ]
  },
  {
   "cell_type": "code",
   "execution_count": null,
   "metadata": {},
   "outputs": [],
   "source": []
  },
  {
   "cell_type": "markdown",
   "metadata": {},
   "source": [
    "# CONCATINATE"
   ]
  },
  {
   "cell_type": "markdown",
   "metadata": {},
   "source": [
    "### 1. BOW CONCAT"
   ]
  },
  {
   "cell_type": "code",
   "execution_count": 116,
   "metadata": {},
   "outputs": [],
   "source": [
    "# CONCATINATING ALL VECTORIZED FEATURES INCLUDING ESSAY WITH BOW\n",
    "x_train_bow_vector=hstack( (x_train_prefix,x_train_grade,x_train_state,x_train_categories,x_train_subcategories,x_train_price,x_train_previous_project,x_train_essay)).tocsr()\n",
    "x_test_bow_vector=hstack( (x_test_prefix,x_test_grade,x_test_state,x_test_categories,x_test_subcategories,x_test_price,x_test_previous_project,x_test_essay)).tocsr()"
   ]
  },
  {
   "cell_type": "code",
   "execution_count": 117,
   "metadata": {},
   "outputs": [
    {
     "name": "stdout",
     "output_type": "stream",
     "text": [
      "(67000, 5101)\n"
     ]
    }
   ],
   "source": [
    "print(x_train_bow_vector.shape)"
   ]
  },
  {
   "cell_type": "code",
   "execution_count": 118,
   "metadata": {},
   "outputs": [
    {
     "name": "stdout",
     "output_type": "stream",
     "text": [
      "(33000, 5101)\n"
     ]
    }
   ],
   "source": [
    "print(x_test_bow_vector.shape)"
   ]
  },
  {
   "cell_type": "code",
   "execution_count": null,
   "metadata": {},
   "outputs": [],
   "source": []
  },
  {
   "cell_type": "markdown",
   "metadata": {},
   "source": [
    "### 2. TFIDF CONCAT"
   ]
  },
  {
   "cell_type": "code",
   "execution_count": 119,
   "metadata": {},
   "outputs": [],
   "source": [
    "# CONCATINATING ALL VECTORIZED FEATURES INCLUDING ESSAY WITH BOW\n",
    "x_train_tfidf_vector=hstack( (x_train_prefix,x_train_grade,x_train_state,x_train_categories,x_train_subcategories,x_train_price,x_train_previous_project,x_train_essay_tfidf)).tocsr()\n",
    "x_test_tfidf_vector=hstack( (x_test_prefix,x_test_grade,x_test_state,x_test_categories,x_test_subcategories,x_test_price,x_test_previous_project,x_test_essay_tfidf)).tocsr()"
   ]
  },
  {
   "cell_type": "code",
   "execution_count": 120,
   "metadata": {},
   "outputs": [
    {
     "name": "stdout",
     "output_type": "stream",
     "text": [
      "(67000, 46675)\n"
     ]
    }
   ],
   "source": [
    "print(x_train_tfidf_vector.shape)"
   ]
  },
  {
   "cell_type": "code",
   "execution_count": 121,
   "metadata": {},
   "outputs": [
    {
     "name": "stdout",
     "output_type": "stream",
     "text": [
      "(33000, 46675)\n"
     ]
    }
   ],
   "source": [
    "print(x_test_tfidf_vector.shape)"
   ]
  },
  {
   "cell_type": "code",
   "execution_count": null,
   "metadata": {},
   "outputs": [],
   "source": []
  },
  {
   "cell_type": "markdown",
   "metadata": {
    "colab_type": "text",
    "id": "yYHPYadYb3dh"
   },
   "source": [
    "<h2>1.5 Appling NB on different kind of featurization as mentioned in the instructions</h2>\n"
   ]
  },
  {
   "cell_type": "markdown",
   "metadata": {},
   "source": [
    "## 1. HYPER PARAMETER TUNING WITH SET 1(BOW)"
   ]
  },
  {
   "cell_type": "code",
   "execution_count": 3,
   "metadata": {},
   "outputs": [],
   "source": [
    "import pandas as pd\n",
    "import numpy as np\n",
    "from sklearn.model_selection import RandomizedSearchCV\n",
    "from sklearn.naive_bayes import MultinomialNB\n",
    "import seaborn as sns\n",
    "import matplotlib.pyplot as plt\n",
    "import math\n",
    "import warnings\n",
    "warnings.filterwarnings(\"ignore\")\n",
    "from sklearn.metrics import roc_curve, auc"
   ]
  },
  {
   "cell_type": "code",
   "execution_count": 124,
   "metadata": {},
   "outputs": [
    {
     "data": {
      "image/png": "[encoded data removed]",
      "text/plain": [
       "<Figure size 432x288 with 1 Axes>"
      ]
     },
     "metadata": {},
     "output_type": "display_data"
    }
   ],
   "source": [
    "#REFERENCE : CODE IS TAKEN FROM Reference notebooks and modified.\n",
    "neigh=MultinomialNB() #INITIALIZING THE CLASSIFIER\n",
    "\n",
    "parameters={\"alpha\":[0.00001,0.0005, 0.0001,0.005,0.001,0.05,0.01,0.1,0.5,1,5,10,50,100]}\n",
    "\n",
    "clf=RandomizedSearchCV(neigh,parameters,cv=3,scoring=\"roc_auc\",return_train_score=True) #CV BY RANDOMSEARCHCV\n",
    "\n",
    "clf.fit(x_train_bow_vector,y_train) #fitting the dataset\n",
    "\n",
    "results = pd.DataFrame.from_dict(clf.cv_results_) # RESULTS BEING STORED AS PANDAS DATA FRAME\n",
    "results = results.sort_values(['param_alpha']) #SORTING BASED ON ALPHA\n",
    "\n",
    "\n",
    "train_auc=results[\"mean_train_score\"] #STORING TRAINING DATASET AUC SCORE \n",
    "cv_auc_score=results[\"mean_test_score\"] #STORING CV DATESET AUC SCORE\n",
    "alpha=results[\"param_alpha\"] #STORING VALUE OF ALPHA\n",
    "\n",
    "log_alpha=[]   #GETTING LOG VALUE OF ALL THE ALPHA\n",
    "for i in alpha:\n",
    "    log_alpha.append(math.log(i,10))\n",
    "\n",
    "#PLOTTING AUC SCORE VS LOG(ALPHA) \n",
    "sns.set_style(\"whitegrid\")\n",
    "sns.lineplot(x=log_alpha,y=train_auc,label=\"Train\")\n",
    "sns.lineplot(x=log_alpha,y=cv_auc_score,label=\"CV\")\n",
    "sns.scatterplot(x=log_alpha,y=train_auc)\n",
    "sns.scatterplot(x=log_alpha,y=cv_auc_score)\n",
    "plt.xlabel(\"log(alpha)\")\n",
    "plt.ylabel(\"AUC\")\n",
    "plt.legend()\n",
    "plt.show()"
   ]
  },
  {
   "cell_type": "code",
   "execution_count": 125,
   "metadata": {},
   "outputs": [
    {
     "data": {
      "text/html": [
       "<div>\n",
       "<style scoped>\n",
       "    .dataframe tbody tr th:only-of-type {\n",
       "        vertical-align: middle;\n",
       "    }\n",
       "\n",
       "    .dataframe tbody tr th {\n",
       "        vertical-align: top;\n",
       "    }\n",
       "\n",
       "    .dataframe thead th {\n",
       "        text-align: right;\n",
       "    }\n",
       "</style>\n",
       "<table border=\"1\" class=\"dataframe\">\n",
       "  <thead>\n",
       "    <tr style=\"text-align: right;\">\n",
       "      <th></th>\n",
       "      <th>mean_fit_time</th>\n",
       "      <th>std_fit_time</th>\n",
       "      <th>mean_score_time</th>\n",
       "      <th>std_score_time</th>\n",
       "      <th>param_alpha</th>\n",
       "      <th>params</th>\n",
       "      <th>split0_test_score</th>\n",
       "      <th>split1_test_score</th>\n",
       "      <th>split2_test_score</th>\n",
       "      <th>mean_test_score</th>\n",
       "      <th>std_test_score</th>\n",
       "      <th>rank_test_score</th>\n",
       "      <th>split0_train_score</th>\n",
       "      <th>split1_train_score</th>\n",
       "      <th>split2_train_score</th>\n",
       "      <th>mean_train_score</th>\n",
       "      <th>std_train_score</th>\n",
       "    </tr>\n",
       "  </thead>\n",
       "  <tbody>\n",
       "    <tr>\n",
       "      <th>9</th>\n",
       "      <td>0.215594</td>\n",
       "      <td>0.021416</td>\n",
       "      <td>0.044816</td>\n",
       "      <td>0.023927</td>\n",
       "      <td>0.0005</td>\n",
       "      <td>{'alpha': 0.0005}</td>\n",
       "      <td>0.693618</td>\n",
       "      <td>0.687361</td>\n",
       "      <td>0.686186</td>\n",
       "      <td>0.689055</td>\n",
       "      <td>0.003262</td>\n",
       "      <td>1</td>\n",
       "      <td>0.723326</td>\n",
       "      <td>0.725475</td>\n",
       "      <td>0.726854</td>\n",
       "      <td>0.725218</td>\n",
       "      <td>0.001452</td>\n",
       "    </tr>\n",
       "    <tr>\n",
       "      <th>4</th>\n",
       "      <td>0.196592</td>\n",
       "      <td>0.005573</td>\n",
       "      <td>0.048449</td>\n",
       "      <td>0.001888</td>\n",
       "      <td>0.001</td>\n",
       "      <td>{'alpha': 0.001}</td>\n",
       "      <td>0.693618</td>\n",
       "      <td>0.687360</td>\n",
       "      <td>0.686185</td>\n",
       "      <td>0.689055</td>\n",
       "      <td>0.003262</td>\n",
       "      <td>2</td>\n",
       "      <td>0.723326</td>\n",
       "      <td>0.725474</td>\n",
       "      <td>0.726854</td>\n",
       "      <td>0.725218</td>\n",
       "      <td>0.001452</td>\n",
       "    </tr>\n",
       "    <tr>\n",
       "      <th>5</th>\n",
       "      <td>0.204986</td>\n",
       "      <td>0.009584</td>\n",
       "      <td>0.048438</td>\n",
       "      <td>0.007608</td>\n",
       "      <td>0.005</td>\n",
       "      <td>{'alpha': 0.005}</td>\n",
       "      <td>0.693617</td>\n",
       "      <td>0.687359</td>\n",
       "      <td>0.686183</td>\n",
       "      <td>0.689053</td>\n",
       "      <td>0.003263</td>\n",
       "      <td>3</td>\n",
       "      <td>0.723323</td>\n",
       "      <td>0.725472</td>\n",
       "      <td>0.726851</td>\n",
       "      <td>0.725215</td>\n",
       "      <td>0.001452</td>\n",
       "    </tr>\n",
       "    <tr>\n",
       "      <th>3</th>\n",
       "      <td>0.197691</td>\n",
       "      <td>0.007194</td>\n",
       "      <td>0.050791</td>\n",
       "      <td>0.005541</td>\n",
       "      <td>0.05</td>\n",
       "      <td>{'alpha': 0.05}</td>\n",
       "      <td>0.693602</td>\n",
       "      <td>0.687340</td>\n",
       "      <td>0.686160</td>\n",
       "      <td>0.689034</td>\n",
       "      <td>0.003266</td>\n",
       "      <td>4</td>\n",
       "      <td>0.723294</td>\n",
       "      <td>0.725444</td>\n",
       "      <td>0.726821</td>\n",
       "      <td>0.725186</td>\n",
       "      <td>0.001451</td>\n",
       "    </tr>\n",
       "    <tr>\n",
       "      <th>7</th>\n",
       "      <td>0.202346</td>\n",
       "      <td>0.006969</td>\n",
       "      <td>0.045622</td>\n",
       "      <td>0.004048</td>\n",
       "      <td>0.1</td>\n",
       "      <td>{'alpha': 0.1}</td>\n",
       "      <td>0.693583</td>\n",
       "      <td>0.687316</td>\n",
       "      <td>0.686137</td>\n",
       "      <td>0.689012</td>\n",
       "      <td>0.003268</td>\n",
       "      <td>5</td>\n",
       "      <td>0.723263</td>\n",
       "      <td>0.725413</td>\n",
       "      <td>0.726787</td>\n",
       "      <td>0.725154</td>\n",
       "      <td>0.001450</td>\n",
       "    </tr>\n",
       "    <tr>\n",
       "      <th>2</th>\n",
       "      <td>0.193727</td>\n",
       "      <td>0.005091</td>\n",
       "      <td>0.046885</td>\n",
       "      <td>0.000020</td>\n",
       "      <td>0.5</td>\n",
       "      <td>{'alpha': 0.5}</td>\n",
       "      <td>0.693426</td>\n",
       "      <td>0.687146</td>\n",
       "      <td>0.685939</td>\n",
       "      <td>0.688837</td>\n",
       "      <td>0.003282</td>\n",
       "      <td>6</td>\n",
       "      <td>0.723005</td>\n",
       "      <td>0.725167</td>\n",
       "      <td>0.726515</td>\n",
       "      <td>0.724896</td>\n",
       "      <td>0.001446</td>\n",
       "    </tr>\n",
       "    <tr>\n",
       "      <th>8</th>\n",
       "      <td>0.250316</td>\n",
       "      <td>0.012027</td>\n",
       "      <td>0.066263</td>\n",
       "      <td>0.003644</td>\n",
       "      <td>1</td>\n",
       "      <td>{'alpha': 1}</td>\n",
       "      <td>0.693227</td>\n",
       "      <td>0.686928</td>\n",
       "      <td>0.685685</td>\n",
       "      <td>0.688613</td>\n",
       "      <td>0.003302</td>\n",
       "      <td>7</td>\n",
       "      <td>0.722689</td>\n",
       "      <td>0.724860</td>\n",
       "      <td>0.726173</td>\n",
       "      <td>0.724574</td>\n",
       "      <td>0.001437</td>\n",
       "    </tr>\n",
       "    <tr>\n",
       "      <th>6</th>\n",
       "      <td>0.203473</td>\n",
       "      <td>0.002148</td>\n",
       "      <td>0.048190</td>\n",
       "      <td>0.001862</td>\n",
       "      <td>5</td>\n",
       "      <td>{'alpha': 5}</td>\n",
       "      <td>0.691520</td>\n",
       "      <td>0.685182</td>\n",
       "      <td>0.683664</td>\n",
       "      <td>0.686789</td>\n",
       "      <td>0.003402</td>\n",
       "      <td>8</td>\n",
       "      <td>0.720130</td>\n",
       "      <td>0.722343</td>\n",
       "      <td>0.723450</td>\n",
       "      <td>0.721974</td>\n",
       "      <td>0.001380</td>\n",
       "    </tr>\n",
       "    <tr>\n",
       "      <th>0</th>\n",
       "      <td>0.284868</td>\n",
       "      <td>0.106349</td>\n",
       "      <td>0.079271</td>\n",
       "      <td>0.049591</td>\n",
       "      <td>10</td>\n",
       "      <td>{'alpha': 10}</td>\n",
       "      <td>0.689223</td>\n",
       "      <td>0.682876</td>\n",
       "      <td>0.681063</td>\n",
       "      <td>0.684387</td>\n",
       "      <td>0.003498</td>\n",
       "      <td>9</td>\n",
       "      <td>0.716856</td>\n",
       "      <td>0.719132</td>\n",
       "      <td>0.720019</td>\n",
       "      <td>0.718669</td>\n",
       "      <td>0.001332</td>\n",
       "    </tr>\n",
       "    <tr>\n",
       "      <th>1</th>\n",
       "      <td>0.203183</td>\n",
       "      <td>0.012536</td>\n",
       "      <td>0.059857</td>\n",
       "      <td>0.016931</td>\n",
       "      <td>100</td>\n",
       "      <td>{'alpha': 100}</td>\n",
       "      <td>0.646496</td>\n",
       "      <td>0.642780</td>\n",
       "      <td>0.640890</td>\n",
       "      <td>0.643389</td>\n",
       "      <td>0.002329</td>\n",
       "      <td>10</td>\n",
       "      <td>0.663618</td>\n",
       "      <td>0.666073</td>\n",
       "      <td>0.666033</td>\n",
       "      <td>0.665241</td>\n",
       "      <td>0.001148</td>\n",
       "    </tr>\n",
       "  </tbody>\n",
       "</table>\n",
       "</div>"
      ],
      "text/plain": [
       "   mean_fit_time  std_fit_time  mean_score_time  std_score_time param_alpha  \\\n",
       "9       0.215594      0.021416         0.044816        0.023927      0.0005   \n",
       "4       0.196592      0.005573         0.048449        0.001888       0.001   \n",
       "5       0.204986      0.009584         0.048438        0.007608       0.005   \n",
       "3       0.197691      0.007194         0.050791        0.005541        0.05   \n",
       "7       0.202346      0.006969         0.045622        0.004048         0.1   \n",
       "2       0.193727      0.005091         0.046885        0.000020         0.5   \n",
       "8       0.250316      0.012027         0.066263        0.003644           1   \n",
       "6       0.203473      0.002148         0.048190        0.001862           5   \n",
       "0       0.284868      0.106349         0.079271        0.049591          10   \n",
       "1       0.203183      0.012536         0.059857        0.016931         100   \n",
       "\n",
       "              params  split0_test_score  split1_test_score  split2_test_score  \\\n",
       "9  {'alpha': 0.0005}           0.693618           0.687361           0.686186   \n",
       "4   {'alpha': 0.001}           0.693618           0.687360           0.686185   \n",
       "5   {'alpha': 0.005}           0.693617           0.687359           0.686183   \n",
       "3    {'alpha': 0.05}           0.693602           0.687340           0.686160   \n",
       "7     {'alpha': 0.1}           0.693583           0.687316           0.686137   \n",
       "2     {'alpha': 0.5}           0.693426           0.687146           0.685939   \n",
       "8       {'alpha': 1}           0.693227           0.686928           0.685685   \n",
       "6       {'alpha': 5}           0.691520           0.685182           0.683664   \n",
       "0      {'alpha': 10}           0.689223           0.682876           0.681063   \n",
       "1     {'alpha': 100}           0.646496           0.642780           0.640890   \n",
       "\n",
       "   mean_test_score  std_test_score  rank_test_score  split0_train_score  \\\n",
       "9         0.689055        0.003262                1            0.723326   \n",
       "4         0.689055        0.003262                2            0.723326   \n",
       "5         0.689053        0.003263                3            0.723323   \n",
       "3         0.689034        0.003266                4            0.723294   \n",
       "7         0.689012        0.003268                5            0.723263   \n",
       "2         0.688837        0.003282                6            0.723005   \n",
       "8         0.688613        0.003302                7            0.722689   \n",
       "6         0.686789        0.003402                8            0.720130   \n",
       "0         0.684387        0.003498                9            0.716856   \n",
       "1         0.643389        0.002329               10            0.663618   \n",
       "\n",
       "   split1_train_score  split2_train_score  mean_train_score  std_train_score  \n",
       "9            0.725475            0.726854          0.725218         0.001452  \n",
       "4            0.725474            0.726854          0.725218         0.001452  \n",
       "5            0.725472            0.726851          0.725215         0.001452  \n",
       "3            0.725444            0.726821          0.725186         0.001451  \n",
       "7            0.725413            0.726787          0.725154         0.001450  \n",
       "2            0.725167            0.726515          0.724896         0.001446  \n",
       "8            0.724860            0.726173          0.724574         0.001437  \n",
       "6            0.722343            0.723450          0.721974         0.001380  \n",
       "0            0.719132            0.720019          0.718669         0.001332  \n",
       "1            0.666073            0.666033          0.665241         0.001148  "
      ]
     },
     "execution_count": 125,
     "metadata": {},
     "output_type": "execute_result"
    }
   ],
   "source": [
    "results"
   ]
  },
  {
   "cell_type": "markdown",
   "metadata": {},
   "source": [
    "* BEST ALPHA =0.1 "
   ]
  },
  {
   "cell_type": "markdown",
   "metadata": {},
   "source": [
    "## TRAINING MODEL WITH BEST ALPHA  FOR SET 1(BOW)"
   ]
  },
  {
   "cell_type": "code",
   "execution_count": 148,
   "metadata": {},
   "outputs": [
    {
     "data": {
      "image/png": "[encoded data removed]",
      "text/plain": [
       "<Figure size 432x288 with 1 Axes>"
      ]
     },
     "metadata": {},
     "output_type": "display_data"
    }
   ],
   "source": [
    "#REFERENCE:Code is taken from Reference Notebooks \n",
    "\n",
    "classifier=MultinomialNB(alpha=0.1) #INITIALIZING THE CLASSIFIER\n",
    "\n",
    "classifier.fit(x_train_bow_vector,y_train) #FITTING THE TRAIN DATESET \n",
    "\n",
    "y_train_pred_bow = classifier.predict_proba(x_train_bow_vector)  #PREDICTING THE PROBABILITY FOR TRAIN DATASET\n",
    "y_test_pred_bow=classifier.predict_proba(x_test_bow_vector) #PREDICTING THE PROBIBILITY FOR TEST DATASET\n",
    "\n",
    "# COMPUTING FPR ,TPR ,THRESHOLD   \n",
    "train_fpr_bow,train_tpr_bow, tr_thresholds_bow=roc_curve(y_train,y_train_pred_bow[:,1]) \n",
    "test_fpr_bow, test_tpr_bow, test_thresholds_bow=roc_curve(y_test,y_test_pred_bow[:,1])\n",
    "\n",
    "# PLOTTING FPR VS TPR  \n",
    "sns.set_style(\"whitegrid\")\n",
    "sns.lineplot(x=train_fpr_bow,y=train_tpr_bow,label=\"Train AUC=\"+str(auc(train_fpr_bow,train_tpr_bow)))\n",
    "sns.lineplot(x=test_fpr_bow,y=test_tpr_bow,label=\"Test AUC=\"+ str(auc(test_fpr_bow, test_tpr_bow)))\n",
    "plt.xlabel(\"FPR\")\n",
    "plt.ylabel(\"TPR\")\n",
    "plt.legend()\n",
    "plt.show()"
   ]
  },
  {
   "cell_type": "code",
   "execution_count": 149,
   "metadata": {},
   "outputs": [],
   "source": [
    "#REFERENCE:Code is taken from Reference Notebooks \n",
    "\n",
    "def find_best_threshold(threshould, fpr, tpr):\n",
    "    t = threshould[np.argmax(tpr*(1-fpr))]\n",
    "    print(\"the maximum value of tpr*(1-fpr)\", max(tpr*(1-fpr)), \"for threshold\", np.round(t,3))\n",
    "    return t\n",
    "\n",
    "def predict_with_best_t(proba, threshould):\n",
    "    predictions = []\n",
    "    for i in proba:\n",
    "        if i >= threshould:\n",
    "            predictions.append(1)\n",
    "        else:\n",
    "            predictions.append(0)\n",
    "    return predictions"
   ]
  },
  {
   "cell_type": "code",
   "execution_count": 150,
   "metadata": {},
   "outputs": [
    {
     "name": "stdout",
     "output_type": "stream",
     "text": [
      "the maximum value of tpr*(1-fpr) 0.4414800072217822 for threshold 0.869\n"
     ]
    }
   ],
   "source": [
    "best_t_bow = find_best_threshold(tr_thresholds_bow, train_fpr_bow, train_tpr_bow)"
   ]
  },
  {
   "cell_type": "code",
   "execution_count": 152,
   "metadata": {},
   "outputs": [
    {
     "name": "stdout",
     "output_type": "stream",
     "text": [
      "Train confusion matrix\n"
     ]
    },
    {
     "data": {
      "image/png": "[encoded data removed]",
      "text/plain": [
       "<Figure size 432x288 with 2 Axes>"
      ]
     },
     "metadata": {},
     "output_type": "display_data"
    }
   ],
   "source": [
    "#REFERENCE: https://stackoverflow.com/questions/61748441/how-to-fix-the-values-displayed-in-a-confusion-matrix-in-exponential-form-to-nor\n",
    "\n",
    "cm_train_bow=confusion_matrix(y_train, predict_with_best_t(y_train_pred_bow[:,1], best_t_bow)) #COMPUTING CONFUSION MATRIX\n",
    "print(\"Train confusion matrix\") \n",
    "\n",
    "# PLOTTING CONFUSION MATRIX AS HEAT MAP FOR TRAIN DATASET(SET 1)\n",
    "sns.heatmap(cm_train_bow, annot=True,fmt=\"d\",cmap='Blues')\n",
    "plt.show()"
   ]
  },
  {
   "cell_type": "code",
   "execution_count": 154,
   "metadata": {},
   "outputs": [
    {
     "name": "stdout",
     "output_type": "stream",
     "text": [
      "Test confusion matrix\n"
     ]
    },
    {
     "data": {
      "image/png": "[encoded data removed]",
      "text/plain": [
       "<Figure size 432x288 with 2 Axes>"
      ]
     },
     "metadata": {},
     "output_type": "display_data"
    }
   ],
   "source": [
    "#REFERENCE: https://stackoverflow.com/questions/61748441/how-to-fix-the-values-displayed-in-a-confusion-matrix-in-exponential-form-to-nor\n",
    "\n",
    "cm_test_bow=confusion_matrix(y_test, predict_with_best_t(y_test_pred_bow[:,1], best_t_bow)) #COMPUTING CONFUSION MATRIX\n",
    "print(\"Test confusion matrix\")\n",
    "\n",
    "# PLOTTING CONFUSION MATRIX AS HEAT MAP FOR TEST DATASET (SET 1)\n",
    "sns.heatmap(cm_test_bow, annot=True,fmt=\"d\",cmap='Blues')\n",
    "plt.show()"
   ]
  },
  {
   "cell_type": "code",
   "execution_count": null,
   "metadata": {},
   "outputs": [],
   "source": []
  },
  {
   "cell_type": "markdown",
   "metadata": {},
   "source": [
    "## 2. HYPER PARAMETER TUNING  WITH SET 2 (TFIDF)"
   ]
  },
  {
   "cell_type": "code",
   "execution_count": 89,
   "metadata": {},
   "outputs": [
    {
     "data": {
      "image/png": "[encoded data removed]",
      "text/plain": [
       "<Figure size 432x288 with 1 Axes>"
      ]
     },
     "metadata": {},
     "output_type": "display_data"
    }
   ],
   "source": [
    "#REFERENCE : #REFERENCE:Code is taken from Reference Notebooks \n",
    "\n",
    "neigh=MultinomialNB() #INITIALIZING THE CLASSIFIER\n",
    "\n",
    "parameters={\"alpha\":[0.00001,0.0005, 0.0001,0.005,0.001,0.05,0.01,0.1,0.5,1,5,10,50,100]} \n",
    "\n",
    "clf=RandomizedSearchCV(neigh,parameters,cv=3,scoring=\"roc_auc\",return_train_score=True) #CV BY RANDOMSEARCHCV\n",
    "\n",
    "clf.fit(x_train_tfidf_vector,y_train) #FITTING THE TRAINING DATASET \n",
    "\n",
    "results = pd.DataFrame.from_dict(clf.cv_results_) # RESULTS BEING STORED AS PANDAS DATA FRAME\n",
    "results = results.sort_values(['param_alpha']) #SORTING BASED ON ALPHA\n",
    "\n",
    "\n",
    "train_auc=results[\"mean_train_score\"] #STORING AUC SCORE IN TRAINING DATASET\n",
    "cv_auc_score=results[\"mean_test_score\"] #STORING AUC SCORE IN TEST DATASET\n",
    "alpha=results[\"param_alpha\"] #STORING ALPHA  \n",
    "\n",
    "#GETTING LOG VALUE OF ALL THE ALPHA \n",
    "log_alpha=[] \n",
    "for i in alpha:\n",
    "    log_alpha.append(math.log(i,10))\n",
    "\n",
    "#PLOTTING LOG(ALPHA) VS AUC SCORE (STE 2)\n",
    "sns.set_style(\"whitegrid\")\n",
    "sns.lineplot(x=log_alpha,y=train_auc,label=\"Train\")\n",
    "sns.lineplot(x=log_alpha,y=cv_auc_score,label=\"CV\")\n",
    "sns.scatterplot(x=log_alpha,y=train_auc)\n",
    "sns.scatterplot(x=log_alpha,y=cv_auc_score)\n",
    "plt.xlabel(\"log(alpha)\")\n",
    "plt.ylabel(\"AUC\")\n",
    "plt.legend()\n",
    "plt.show()"
   ]
  },
  {
   "cell_type": "code",
   "execution_count": 90,
   "metadata": {},
   "outputs": [
    {
     "data": {
      "text/html": [
       "<div>\n",
       "<style scoped>\n",
       "    .dataframe tbody tr th:only-of-type {\n",
       "        vertical-align: middle;\n",
       "    }\n",
       "\n",
       "    .dataframe tbody tr th {\n",
       "        vertical-align: top;\n",
       "    }\n",
       "\n",
       "    .dataframe thead th {\n",
       "        text-align: right;\n",
       "    }\n",
       "</style>\n",
       "<table border=\"1\" class=\"dataframe\">\n",
       "  <thead>\n",
       "    <tr style=\"text-align: right;\">\n",
       "      <th></th>\n",
       "      <th>mean_fit_time</th>\n",
       "      <th>std_fit_time</th>\n",
       "      <th>mean_score_time</th>\n",
       "      <th>std_score_time</th>\n",
       "      <th>param_alpha</th>\n",
       "      <th>params</th>\n",
       "      <th>split0_test_score</th>\n",
       "      <th>split1_test_score</th>\n",
       "      <th>split2_test_score</th>\n",
       "      <th>mean_test_score</th>\n",
       "      <th>std_test_score</th>\n",
       "      <th>rank_test_score</th>\n",
       "      <th>split0_train_score</th>\n",
       "      <th>split1_train_score</th>\n",
       "      <th>split2_train_score</th>\n",
       "      <th>mean_train_score</th>\n",
       "      <th>std_train_score</th>\n",
       "    </tr>\n",
       "  </thead>\n",
       "  <tbody>\n",
       "    <tr>\n",
       "      <th>1</th>\n",
       "      <td>0.167639</td>\n",
       "      <td>0.003449</td>\n",
       "      <td>0.046670</td>\n",
       "      <td>0.003429</td>\n",
       "      <td>1e-05</td>\n",
       "      <td>{'alpha': 1e-05}</td>\n",
       "      <td>0.606114</td>\n",
       "      <td>0.603917</td>\n",
       "      <td>0.608719</td>\n",
       "      <td>0.606250</td>\n",
       "      <td>0.001962</td>\n",
       "      <td>6</td>\n",
       "      <td>0.933826</td>\n",
       "      <td>0.931819</td>\n",
       "      <td>0.933923</td>\n",
       "      <td>0.933189</td>\n",
       "      <td>0.000970</td>\n",
       "    </tr>\n",
       "    <tr>\n",
       "      <th>2</th>\n",
       "      <td>0.161062</td>\n",
       "      <td>0.011095</td>\n",
       "      <td>0.044934</td>\n",
       "      <td>0.000683</td>\n",
       "      <td>0.0001</td>\n",
       "      <td>{'alpha': 0.0001}</td>\n",
       "      <td>0.618738</td>\n",
       "      <td>0.616586</td>\n",
       "      <td>0.620058</td>\n",
       "      <td>0.618461</td>\n",
       "      <td>0.001431</td>\n",
       "      <td>5</td>\n",
       "      <td>0.930791</td>\n",
       "      <td>0.928500</td>\n",
       "      <td>0.930601</td>\n",
       "      <td>0.929964</td>\n",
       "      <td>0.001038</td>\n",
       "    </tr>\n",
       "    <tr>\n",
       "      <th>5</th>\n",
       "      <td>0.178280</td>\n",
       "      <td>0.001569</td>\n",
       "      <td>0.043226</td>\n",
       "      <td>0.001890</td>\n",
       "      <td>0.001</td>\n",
       "      <td>{'alpha': 0.001}</td>\n",
       "      <td>0.636907</td>\n",
       "      <td>0.634644</td>\n",
       "      <td>0.636543</td>\n",
       "      <td>0.636031</td>\n",
       "      <td>0.000992</td>\n",
       "      <td>3</td>\n",
       "      <td>0.923295</td>\n",
       "      <td>0.920357</td>\n",
       "      <td>0.922430</td>\n",
       "      <td>0.922027</td>\n",
       "      <td>0.001233</td>\n",
       "    </tr>\n",
       "    <tr>\n",
       "      <th>0</th>\n",
       "      <td>0.221874</td>\n",
       "      <td>0.082811</td>\n",
       "      <td>0.050583</td>\n",
       "      <td>0.016081</td>\n",
       "      <td>0.01</td>\n",
       "      <td>{'alpha': 0.01}</td>\n",
       "      <td>0.658837</td>\n",
       "      <td>0.656185</td>\n",
       "      <td>0.655211</td>\n",
       "      <td>0.656744</td>\n",
       "      <td>0.001532</td>\n",
       "      <td>2</td>\n",
       "      <td>0.902093</td>\n",
       "      <td>0.897749</td>\n",
       "      <td>0.900005</td>\n",
       "      <td>0.899949</td>\n",
       "      <td>0.001774</td>\n",
       "    </tr>\n",
       "    <tr>\n",
       "      <th>6</th>\n",
       "      <td>0.167862</td>\n",
       "      <td>0.008470</td>\n",
       "      <td>0.048439</td>\n",
       "      <td>0.002743</td>\n",
       "      <td>0.05</td>\n",
       "      <td>{'alpha': 0.05}</td>\n",
       "      <td>0.664483</td>\n",
       "      <td>0.662976</td>\n",
       "      <td>0.659406</td>\n",
       "      <td>0.662288</td>\n",
       "      <td>0.002129</td>\n",
       "      <td>1</td>\n",
       "      <td>0.860453</td>\n",
       "      <td>0.854557</td>\n",
       "      <td>0.857478</td>\n",
       "      <td>0.857496</td>\n",
       "      <td>0.002407</td>\n",
       "    </tr>\n",
       "    <tr>\n",
       "      <th>4</th>\n",
       "      <td>0.166724</td>\n",
       "      <td>0.009040</td>\n",
       "      <td>0.041905</td>\n",
       "      <td>0.001673</td>\n",
       "      <td>0.5</td>\n",
       "      <td>{'alpha': 0.5}</td>\n",
       "      <td>0.634056</td>\n",
       "      <td>0.633918</td>\n",
       "      <td>0.630144</td>\n",
       "      <td>0.632706</td>\n",
       "      <td>0.001812</td>\n",
       "      <td>4</td>\n",
       "      <td>0.725123</td>\n",
       "      <td>0.720740</td>\n",
       "      <td>0.723018</td>\n",
       "      <td>0.722960</td>\n",
       "      <td>0.001790</td>\n",
       "    </tr>\n",
       "    <tr>\n",
       "      <th>7</th>\n",
       "      <td>0.209345</td>\n",
       "      <td>0.074508</td>\n",
       "      <td>0.046292</td>\n",
       "      <td>0.003808</td>\n",
       "      <td>5</td>\n",
       "      <td>{'alpha': 5}</td>\n",
       "      <td>0.572827</td>\n",
       "      <td>0.573241</td>\n",
       "      <td>0.574021</td>\n",
       "      <td>0.573363</td>\n",
       "      <td>0.000495</td>\n",
       "      <td>7</td>\n",
       "      <td>0.593833</td>\n",
       "      <td>0.593699</td>\n",
       "      <td>0.592748</td>\n",
       "      <td>0.593427</td>\n",
       "      <td>0.000483</td>\n",
       "    </tr>\n",
       "    <tr>\n",
       "      <th>9</th>\n",
       "      <td>0.190488</td>\n",
       "      <td>0.009599</td>\n",
       "      <td>0.056747</td>\n",
       "      <td>0.012870</td>\n",
       "      <td>10</td>\n",
       "      <td>{'alpha': 10}</td>\n",
       "      <td>0.560627</td>\n",
       "      <td>0.560467</td>\n",
       "      <td>0.562112</td>\n",
       "      <td>0.561069</td>\n",
       "      <td>0.000741</td>\n",
       "      <td>8</td>\n",
       "      <td>0.573370</td>\n",
       "      <td>0.573754</td>\n",
       "      <td>0.572349</td>\n",
       "      <td>0.573158</td>\n",
       "      <td>0.000593</td>\n",
       "    </tr>\n",
       "    <tr>\n",
       "      <th>8</th>\n",
       "      <td>0.164072</td>\n",
       "      <td>0.010029</td>\n",
       "      <td>0.041342</td>\n",
       "      <td>0.002185</td>\n",
       "      <td>50</td>\n",
       "      <td>{'alpha': 50}</td>\n",
       "      <td>0.544113</td>\n",
       "      <td>0.543542</td>\n",
       "      <td>0.544964</td>\n",
       "      <td>0.544206</td>\n",
       "      <td>0.000584</td>\n",
       "      <td>9</td>\n",
       "      <td>0.548550</td>\n",
       "      <td>0.549298</td>\n",
       "      <td>0.547981</td>\n",
       "      <td>0.548610</td>\n",
       "      <td>0.000540</td>\n",
       "    </tr>\n",
       "    <tr>\n",
       "      <th>3</th>\n",
       "      <td>0.165786</td>\n",
       "      <td>0.007765</td>\n",
       "      <td>0.044606</td>\n",
       "      <td>0.007501</td>\n",
       "      <td>100</td>\n",
       "      <td>{'alpha': 100}</td>\n",
       "      <td>0.540139</td>\n",
       "      <td>0.540020</td>\n",
       "      <td>0.540245</td>\n",
       "      <td>0.540135</td>\n",
       "      <td>0.000092</td>\n",
       "      <td>10</td>\n",
       "      <td>0.543043</td>\n",
       "      <td>0.543602</td>\n",
       "      <td>0.542884</td>\n",
       "      <td>0.543176</td>\n",
       "      <td>0.000308</td>\n",
       "    </tr>\n",
       "  </tbody>\n",
       "</table>\n",
       "</div>"
      ],
      "text/plain": [
       "   mean_fit_time  std_fit_time  mean_score_time  std_score_time param_alpha  \\\n",
       "1       0.167639      0.003449         0.046670        0.003429       1e-05   \n",
       "2       0.161062      0.011095         0.044934        0.000683      0.0001   \n",
       "5       0.178280      0.001569         0.043226        0.001890       0.001   \n",
       "0       0.221874      0.082811         0.050583        0.016081        0.01   \n",
       "6       0.167862      0.008470         0.048439        0.002743        0.05   \n",
       "4       0.166724      0.009040         0.041905        0.001673         0.5   \n",
       "7       0.209345      0.074508         0.046292        0.003808           5   \n",
       "9       0.190488      0.009599         0.056747        0.012870          10   \n",
       "8       0.164072      0.010029         0.041342        0.002185          50   \n",
       "3       0.165786      0.007765         0.044606        0.007501         100   \n",
       "\n",
       "              params  split0_test_score  split1_test_score  split2_test_score  \\\n",
       "1   {'alpha': 1e-05}           0.606114           0.603917           0.608719   \n",
       "2  {'alpha': 0.0001}           0.618738           0.616586           0.620058   \n",
       "5   {'alpha': 0.001}           0.636907           0.634644           0.636543   \n",
       "0    {'alpha': 0.01}           0.658837           0.656185           0.655211   \n",
       "6    {'alpha': 0.05}           0.664483           0.662976           0.659406   \n",
       "4     {'alpha': 0.5}           0.634056           0.633918           0.630144   \n",
       "7       {'alpha': 5}           0.572827           0.573241           0.574021   \n",
       "9      {'alpha': 10}           0.560627           0.560467           0.562112   \n",
       "8      {'alpha': 50}           0.544113           0.543542           0.544964   \n",
       "3     {'alpha': 100}           0.540139           0.540020           0.540245   \n",
       "\n",
       "   mean_test_score  std_test_score  rank_test_score  split0_train_score  \\\n",
       "1         0.606250        0.001962                6            0.933826   \n",
       "2         0.618461        0.001431                5            0.930791   \n",
       "5         0.636031        0.000992                3            0.923295   \n",
       "0         0.656744        0.001532                2            0.902093   \n",
       "6         0.662288        0.002129                1            0.860453   \n",
       "4         0.632706        0.001812                4            0.725123   \n",
       "7         0.573363        0.000495                7            0.593833   \n",
       "9         0.561069        0.000741                8            0.573370   \n",
       "8         0.544206        0.000584                9            0.548550   \n",
       "3         0.540135        0.000092               10            0.543043   \n",
       "\n",
       "   split1_train_score  split2_train_score  mean_train_score  std_train_score  \n",
       "1            0.931819            0.933923          0.933189         0.000970  \n",
       "2            0.928500            0.930601          0.929964         0.001038  \n",
       "5            0.920357            0.922430          0.922027         0.001233  \n",
       "0            0.897749            0.900005          0.899949         0.001774  \n",
       "6            0.854557            0.857478          0.857496         0.002407  \n",
       "4            0.720740            0.723018          0.722960         0.001790  \n",
       "7            0.593699            0.592748          0.593427         0.000483  \n",
       "9            0.573754            0.572349          0.573158         0.000593  \n",
       "8            0.549298            0.547981          0.548610         0.000540  \n",
       "3            0.543602            0.542884          0.543176         0.000308  "
      ]
     },
     "execution_count": 90,
     "metadata": {},
     "output_type": "execute_result"
    }
   ],
   "source": [
    "results"
   ]
  },
  {
   "cell_type": "markdown",
   "metadata": {},
   "source": [
    "* BEST ALPHA =0.5"
   ]
  },
  {
   "cell_type": "markdown",
   "metadata": {},
   "source": [
    "## TRAINING MODEL FOR BEST ALPHA WITH SET 2(TFIDF)"
   ]
  },
  {
   "cell_type": "code",
   "execution_count": 156,
   "metadata": {},
   "outputs": [
    {
     "data": {
      "image/png": "[encoded data removed]",
      "text/plain": [
       "<Figure size 432x288 with 1 Axes>"
      ]
     },
     "metadata": {},
     "output_type": "display_data"
    }
   ],
   "source": [
    "#REFERENCE:Code is taken from Reference Notebooks \n",
    "classifier=MultinomialNB(alpha=0.5)\n",
    "\n",
    "classifier.fit(x_train_tfidf_vector,y_train)\n",
    "\n",
    "y_train_pred_tfidf = classifier.predict_proba(x_train_tfidf_vector)\n",
    "y_test_pred_tfidf = classifier.predict_proba(x_test_tfidf_vector)\n",
    "\n",
    "train_fpr_tfidf , train_tpr_tfidf, tr_thresholds_tfidf = roc_curve(y_train,y_train_pred_tfidf[:,1])\n",
    "test_fpr_tfidf, test_tpr_tfidf , test_thresholds_tfidf = roc_curve(y_test,y_test_pred_tfidf[:,1])\n",
    "\n",
    "sns.set_style(\"whitegrid\")\n",
    "sns.lineplot(x=train_fpr_tfidf , y=train_tpr_tfidf , label=\"Train AUC=\" +  str(auc(train_fpr_tfidf,train_tpr_tfidf)))\n",
    "sns.lineplot(x=test_fpr_tfidf , y=test_tpr_tfidf , label=\"Test AUC=\" + str(auc(test_fpr_tfidf, test_tpr_tfidf)))\n",
    "plt.xlabel(\"FPR\")\n",
    "plt.ylabel(\"TPR\")\n",
    "plt.legend()\n",
    "plt.show()"
   ]
  },
  {
   "cell_type": "code",
   "execution_count": 158,
   "metadata": {},
   "outputs": [
    {
     "name": "stdout",
     "output_type": "stream",
     "text": [
      "the maximum value of tpr*(1-fpr) 0.43740536851556877 for threshold 0.943\n"
     ]
    }
   ],
   "source": [
    "best_t_tfidf = find_best_threshold(tr_thresholds_tfidf , train_fpr_tfidf, train_tpr_tfidf)"
   ]
  },
  {
   "cell_type": "code",
   "execution_count": 159,
   "metadata": {},
   "outputs": [
    {
     "name": "stdout",
     "output_type": "stream",
     "text": [
      "Train confusion matrix\n"
     ]
    },
    {
     "data": {
      "image/png": "[encoded data removed]",
      "text/plain": [
       "<Figure size 432x288 with 2 Axes>"
      ]
     },
     "metadata": {},
     "output_type": "display_data"
    }
   ],
   "source": [
    "#CONFUSION MATRIX FOR TRAIN DATASET (SET2)\n",
    "cm_train_tfidf=confusion_matrix(y_train, predict_with_best_t(y_train_pred_tfidf[:,1], best_t_tfidf))\n",
    "print(\"Train confusion matrix\")\n",
    "sns.heatmap(cm_train_tfidf, annot=True,fmt=\"d\",cmap='Blues')\n",
    "plt.show()"
   ]
  },
  {
   "cell_type": "code",
   "execution_count": 160,
   "metadata": {},
   "outputs": [
    {
     "name": "stdout",
     "output_type": "stream",
     "text": [
      "Test confusion matrix\n"
     ]
    },
    {
     "data": {
      "image/png": "[encoded data removed]",
      "text/plain": [
       "<Figure size 432x288 with 2 Axes>"
      ]
     },
     "metadata": {},
     "output_type": "display_data"
    }
   ],
   "source": [
    "#CONFUSION MATRIX FOR TEST DATASET(SET 2)\n",
    "cm_test_tfidf = confusion_matrix(y_test, predict_with_best_t(y_test_pred_tfidf[:,1], best_t_tfidf))\n",
    "print(\"Test confusion matrix\")\n",
    "sns.heatmap(cm_test_tfidf, annot=True,fmt=\"d\",cmap='Blues')\n",
    "plt.show()"
   ]
  },
  {
   "cell_type": "markdown",
   "metadata": {},
   "source": [
    "## TOP 20 FEATURES"
   ]
  },
  {
   "cell_type": "code",
   "execution_count": 165,
   "metadata": {},
   "outputs": [],
   "source": [
    "#GETTING THE FEATURE PROBABILITIES\n",
    "negative_feature_prob=classifier.feature_log_prob_[0] #GETTING THE FEATURE PROBABILITES FOR NEGATIVE Yi\n",
    "positive_feature_prob=classifier.feature_log_prob_[1] #GETTIGN THE FEATURE PROBABILITIES FOR POSITIVE Yi"
   ]
  },
  {
   "cell_type": "code",
   "execution_count": 170,
   "metadata": {},
   "outputs": [],
   "source": [
    "#SORTING THE PROBABILITIES INDEX\n",
    "negtive_sorted_feature_index = negative_feature_prob.argsort()\n",
    "positive_sorted_feature_index = positive_feature_prob.argsort()"
   ]
  },
  {
   "cell_type": "code",
   "execution_count": 184,
   "metadata": {},
   "outputs": [
    {
     "data": {
      "text/plain": [
       "array([   99,   100,     2,    64,     8,    65,     3,     5,    88,\n",
       "          86,    87,     6,    95,    67,    13,    62, 39964,    60,\n",
       "          69,     7], dtype=int64)"
      ]
     },
     "execution_count": 184,
     "metadata": {},
     "output_type": "execute_result"
    }
   ],
   "source": [
    "#GETTING TOP 20 PROBABILITIES INDEX\n",
    "negtive_sorted_feature_index[::-1][0:20]"
   ]
  },
  {
   "cell_type": "code",
   "execution_count": 176,
   "metadata": {},
   "outputs": [
    {
     "data": {
      "text/plain": [
       "array([   99,   100,     2,    64,     8,    65,     3,     5,    86,\n",
       "          88,    87,     6,    13,    62, 39964,    95,    67,    60,\n",
       "          84,     7], dtype=int64)"
      ]
     },
     "execution_count": 176,
     "metadata": {},
     "output_type": "execute_result"
    }
   ],
   "source": [
    "#GETTING TOP 20 PROBABILITIES\n",
    "positive_sorted_feature_index[::-1][0:20]"
   ]
  },
  {
   "cell_type": "code",
   "execution_count": 206,
   "metadata": {},
   "outputs": [],
   "source": [
    "#STORING ALL FEATURES IN A LIST FOR SET 2 (TFIDF)\n",
    "feature_names=[]\n",
    "feature_names.extend(feature_prefix)\n",
    "feature_names.extend(feature_grade)\n",
    "feature_names.extend(feature_state)\n",
    "feature_names.extend(feature_clean_categories)\n",
    "feature_names.extend(feature_clean_subcategories)\n",
    "feature_names.append(\"price\")\n",
    "feature_names.append(\" teacher_number_of_previously_posted_projects\")\n",
    "feature_names.extend(feature_tfidf)"
   ]
  },
  {
   "cell_type": "code",
   "execution_count": 210,
   "metadata": {},
   "outputs": [
    {
     "data": {
      "text/plain": [
       "46675"
      ]
     },
     "execution_count": 210,
     "metadata": {},
     "output_type": "execute_result"
    }
   ],
   "source": [
    "len(feature_names)"
   ]
  },
  {
   "cell_type": "code",
   "execution_count": 217,
   "metadata": {},
   "outputs": [],
   "source": [
    "feature_names=np.array(feature_names)  # CONVERTING FEATURE NAME LIST TO NUMPY ARRAY"
   ]
  },
  {
   "cell_type": "code",
   "execution_count": 220,
   "metadata": {},
   "outputs": [
    {
     "name": "stdout",
     "output_type": "stream",
     "text": [
      "['price' ' teacher_number_of_previously_posted_projects' 'mrs'\n",
      " 'literacy_language' 'grades_prek_2' 'math_science' 'ms' 'grades_3_5'\n",
      " 'literacy' 'mathematics' 'literature_writing' 'grades_6_8' 'ca'\n",
      " 'health_sports' 'students' 'specialneeds' 'specialneeds'\n",
      " 'appliedlearning' 'health_wellness' 'grades_9_12']\n"
     ]
    }
   ],
   "source": [
    "# GETTING THE TOP 20 FEATURES FOR  POSITIVE Yi\n",
    "positive_top_20_features=feature_names[positive_sorted_feature_index[::-1][0:20]]\n",
    "print(positive_top_20_features)"
   ]
  },
  {
   "cell_type": "code",
   "execution_count": 221,
   "metadata": {},
   "outputs": [
    {
     "name": "stdout",
     "output_type": "stream",
     "text": [
      "['price' ' teacher_number_of_previously_posted_projects' 'mrs'\n",
      " 'literacy_language' 'grades_prek_2' 'math_science' 'ms' 'grades_3_5'\n",
      " 'mathematics' 'literacy' 'literature_writing' 'grades_6_8' 'specialneeds'\n",
      " 'specialneeds' 'ca' 'health_sports' 'students' 'appliedlearning'\n",
      " 'appliedsciences' 'grades_9_12']\n"
     ]
    }
   ],
   "source": [
    "# GETTING THE TOP 20 FEATURES FOR  NEGATIVE Yi\n",
    "negative_top_20_features=feature_names[negtive_sorted_feature_index[::-1][0:20]]\n",
    "print(negative_top_20_features)"
   ]
  },
  {
   "cell_type": "markdown",
   "metadata": {
    "colab_type": "text",
    "id": "lS9hIHdib3dp"
   },
   "source": [
    "<h1>3. Summary</h1>\n",
    "\n",
    "<br> as mentioned in the step 5 of instructions"
   ]
  },
  {
   "cell_type": "code",
   "execution_count": 5,
   "metadata": {},
   "outputs": [],
   "source": [
    "dict={\"Vectorizer\":[\"BOw\",\"TFIDF\"],\"BEST ALPHA\":[0.1,0.5],\"AUC\":[0.6864,0.6475]}"
   ]
  },
  {
   "cell_type": "code",
   "execution_count": 6,
   "metadata": {},
   "outputs": [
    {
     "data": {
      "text/html": [
       "<div>\n",
       "<style scoped>\n",
       "    .dataframe tbody tr th:only-of-type {\n",
       "        vertical-align: middle;\n",
       "    }\n",
       "\n",
       "    .dataframe tbody tr th {\n",
       "        vertical-align: top;\n",
       "    }\n",
       "\n",
       "    .dataframe thead th {\n",
       "        text-align: right;\n",
       "    }\n",
       "</style>\n",
       "<table border=\"1\" class=\"dataframe\">\n",
       "  <thead>\n",
       "    <tr style=\"text-align: right;\">\n",
       "      <th></th>\n",
       "      <th>Vectorizer</th>\n",
       "      <th>BEST ALPHA</th>\n",
       "      <th>AUC</th>\n",
       "    </tr>\n",
       "  </thead>\n",
       "  <tbody>\n",
       "    <tr>\n",
       "      <th>0</th>\n",
       "      <td>BOw</td>\n",
       "      <td>0.1</td>\n",
       "      <td>0.6864</td>\n",
       "    </tr>\n",
       "    <tr>\n",
       "      <th>1</th>\n",
       "      <td>TFIDF</td>\n",
       "      <td>0.5</td>\n",
       "      <td>0.6475</td>\n",
       "    </tr>\n",
       "  </tbody>\n",
       "</table>\n",
       "</div>"
      ],
      "text/plain": [
       "  Vectorizer  BEST ALPHA     AUC\n",
       "0        BOw         0.1  0.6864\n",
       "1      TFIDF         0.5  0.6475"
      ]
     },
     "execution_count": 6,
     "metadata": {},
     "output_type": "execute_result"
    }
   ],
   "source": [
    "pd.DataFrame(dict)"
   ]
  },
  {
   "cell_type": "code",
   "execution_count": null,
   "metadata": {},
   "outputs": [],
   "source": []
  }
 ],
 "metadata": {
  "colab": {
   "collapsed_sections": [],
   "name": "6_Assignment_NB_Instructions.ipynb",
   "provenance": []
  },
  "kernelspec": {
   "display_name": "Python 3",
   "language": "python",
   "name": "python3"
  },
  "language_info": {
   "codemirror_mode": {
    "name": "ipython",
    "version": 3
   },
   "file_extension": ".py",
   "mimetype": "text/x-python",
   "name": "python",
   "nbconvert_exporter": "python",
   "pygments_lexer": "ipython3",
   "version": "3.7.6"
  }
 },
 "nbformat": 4,
 "nbformat_minor": 1
}
